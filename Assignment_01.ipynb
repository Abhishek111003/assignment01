{
 "cells": [
  {
   "cell_type": "code",
   "execution_count": 1,
   "id": "bc1d4a54",
   "metadata": {},
   "outputs": [
    {
     "data": {
      "text/plain": [
       "'kehsihbA'"
      ]
     },
     "execution_count": 1,
     "metadata": {},
     "output_type": "execute_result"
    }
   ],
   "source": [
    "# 1 Write a code to reverse a string\n",
    "str1 = \"Abhishek\"\n",
    "str1[::-1]"
   ]
  },
  {
   "cell_type": "code",
   "execution_count": 2,
   "id": "acbff498",
   "metadata": {},
   "outputs": [
    {
     "name": "stdout",
     "output_type": "stream",
     "text": [
      "3\n"
     ]
    }
   ],
   "source": [
    "# 2 Write a code to count the number of vowels in a string\n",
    "str1 = \"Abhishek\"\n",
    "lowerstr=str1.lower()\n",
    "a=lowerstr.count(\"a\")\n",
    "e=lowerstr.count(\"e\")\n",
    "i=lowerstr.count(\"i\")\n",
    "o=lowerstr.count(\"o\")\n",
    "u=lowerstr.count(\"u\")\n",
    "print(a+e+i+o+u)"
   ]
  },
  {
   "cell_type": "code",
   "execution_count": 3,
   "id": "1c4888fb",
   "metadata": {},
   "outputs": [
    {
     "name": "stdout",
     "output_type": "stream",
     "text": [
      "No\n"
     ]
    }
   ],
   "source": [
    "# 3 Write a code to check if a given string is a palindrome or no\n",
    "str3 = \"010\"\n",
    "\n",
    "if str1 == str1[::-1]:\n",
    "    print(\"yes palindrome\")\n",
    "else:\n",
    "    print(\"No\")"
   ]
  },
  {
   "cell_type": "code",
   "execution_count": 4,
   "id": "6904bcbf",
   "metadata": {},
   "outputs": [
    {
     "name": "stdout",
     "output_type": "stream",
     "text": [
      "No it is not an anagram\n"
     ]
    }
   ],
   "source": [
    "# 4 Write a code to check if two given strings are anagrams of each other\n",
    "w1 = \"sgar\"\n",
    "w2 = \"rasp\"\n",
    "counter = 0\n",
    "for i in w1:\n",
    "    if i in w2:\n",
    "        continue\n",
    "    else:\n",
    "        counter+=1\n",
    "if counter > 0:\n",
    "    print(\"No it is not an anagram\")\n",
    "else:\n",
    "    print(\"It is an anagram\")\n",
    "\n"
   ]
  },
  {
   "cell_type": "code",
   "execution_count": 5,
   "id": "660b8eab",
   "metadata": {},
   "outputs": [],
   "source": [
    "# 5 Write a code to find all occurrences of a given substring within another string\n",
    "string = \"andy wrote a story and the story continues\"\n"
   ]
  },
  {
   "cell_type": "code",
   "execution_count": 6,
   "id": "c0906702",
   "metadata": {},
   "outputs": [
    {
     "name": "stdout",
     "output_type": "stream",
     "text": [
      "a3c7b4d5\n"
     ]
    }
   ],
   "source": [
    "# 6.  Write a code to perform basic string compression using the counts of repeated characters\n",
    "char = \"aaabbbbcccccccddddd\"\n",
    "char_set=list(set(char))\n",
    "final = \"\"\n",
    "for i in char_set:\n",
    "    final = final+str(i)+str(char.count(i))\n",
    "print(final)"
   ]
  },
  {
   "cell_type": "code",
   "execution_count": 7,
   "id": "45489c2f",
   "metadata": {},
   "outputs": [
    {
     "name": "stdout",
     "output_type": "stream",
     "text": [
      "All elements are unique\n"
     ]
    }
   ],
   "source": [
    "# 7 Write a code to determine if a string has all unique characters\n",
    "unique = \"abcdef\"\n",
    "check = set(unique)\n",
    "if len(check)==len(unique):\n",
    "    print(\"All elements are unique\")\n",
    "else:\n",
    "    print('Not Unique')"
   ]
  },
  {
   "cell_type": "code",
   "execution_count": 8,
   "id": "f4e9d5ad",
   "metadata": {},
   "outputs": [
    {
     "data": {
      "text/plain": [
       "('abhishek', 'ABHISHEK')"
      ]
     },
     "execution_count": 8,
     "metadata": {},
     "output_type": "execute_result"
    }
   ],
   "source": [
    "# 8 Write a code to convert a given string to uppercase or lowercase\n",
    "lower=str1.lower()\n",
    "upper=str1.upper()\n",
    "lower,upper"
   ]
  },
  {
   "cell_type": "code",
   "execution_count": 9,
   "id": "7e590a72",
   "metadata": {},
   "outputs": [
    {
     "name": "stdout",
     "output_type": "stream",
     "text": [
      "10 Words\n"
     ]
    }
   ],
   "source": [
    "# 9 Write a code to count the number of words in a string\n",
    "words=\"titar ke do aage tittar, tittar ke do pieche titar\"\n",
    "split = words.split(\" \")\n",
    "print(str(len(split))+\" Words\")"
   ]
  },
  {
   "cell_type": "code",
   "execution_count": 10,
   "id": "fdf81baf",
   "metadata": {},
   "outputs": [
    {
     "data": {
      "text/plain": [
       "'0Abhishek1Abhishek0'"
      ]
     },
     "execution_count": 10,
     "metadata": {},
     "output_type": "execute_result"
    }
   ],
   "source": [
    "# 10  Write a code to concatenate two strings without using the + operator\n",
    "str1.join(str3)"
   ]
  },
  {
   "cell_type": "code",
   "execution_count": 11,
   "id": "b7d34131",
   "metadata": {},
   "outputs": [
    {
     "name": "stdout",
     "output_type": "stream",
     "text": [
      "['Mango', 'Banana', 'Papaya', 'Banana']\n"
     ]
    }
   ],
   "source": [
    "# 11 Write a code to remove all occurrences of a specific element from a list\n",
    "list1=[\"Apple\",\"Mango\",\"Banana\",\"Papaya\",\"Banana\"]\n",
    "specified_element = \"Apple\"\n",
    "list1.remove(specified_element)\n",
    "print(list1)"
   ]
  },
  {
   "cell_type": "code",
   "execution_count": 12,
   "id": "0d0e4459",
   "metadata": {},
   "outputs": [
    {
     "data": {
      "text/plain": [
       "98"
      ]
     },
     "execution_count": 12,
     "metadata": {},
     "output_type": "execute_result"
    }
   ],
   "source": [
    "# 12  Implement a code to find the second largest number in a given list of integers\n",
    "num_list=[1,2,3,4,5,7,98,3456,4,65,85,67]\n",
    "sorted_list=sorted(num_list)\n",
    "sorted_list[-2]"
   ]
  },
  {
   "cell_type": "code",
   "execution_count": 13,
   "id": "0c488a6b",
   "metadata": {},
   "outputs": [
    {
     "name": "stdout",
     "output_type": "stream",
     "text": [
      "{3456: 1, 1: 1, 2: 1, 3: 1, 4: 2, 5: 1, 98: 1, 7: 1, 65: 1, 67: 1, 85: 1}\n"
     ]
    }
   ],
   "source": [
    "# 13 Create a code to count the occurrences of each element in a list and return a dictionary with elements as keys and their counts as values\n",
    "num_list=[1,2,3,4,5,7,98,3456,4,65,85,67]\n",
    "num_set=set(num_list)\n",
    "dictionary = {}\n",
    "for i in num_set:\n",
    "    counter = {i:num_list.count(i)}\n",
    "    dictionary.update(counter)\n",
    "print(dictionary)"
   ]
  },
  {
   "cell_type": "code",
   "execution_count": 14,
   "id": "38379d55",
   "metadata": {},
   "outputs": [
    {
     "data": {
      "text/plain": [
       "[67, 85, 65, 4, 3456, 98, 7, 5, 4, 3, 2, 1]"
      ]
     },
     "execution_count": 14,
     "metadata": {},
     "output_type": "execute_result"
    }
   ],
   "source": [
    "# 14 Write a code to reverse a list in-place without using any built-in reverse functions\n",
    "num_list=[1,2,3,4,5,7,98,3456,4,65,85,67]\n",
    "revers = num_list[::-1]\n",
    "revers"
   ]
  },
  {
   "cell_type": "code",
   "execution_count": 15,
   "id": "27ba6b5f",
   "metadata": {},
   "outputs": [
    {
     "data": {
      "text/plain": [
       "[1, 2, 3, 4, 5, 7, 98, 3456, 65, 85, 67]"
      ]
     },
     "execution_count": 15,
     "metadata": {},
     "output_type": "execute_result"
    }
   ],
   "source": [
    "# 15  Implement a code to find and remove duplicates from a list while preserving the original order of elements\n",
    "num_list=[1,2,3,4,5,7,98,3456,4,65,85,67]\n",
    "dup=[]\n",
    "for i in num_list:\n",
    "    if i not in dup:\n",
    "        dup.append(i)\n",
    "dup"
   ]
  },
  {
   "cell_type": "code",
   "execution_count": 16,
   "id": "7f012115",
   "metadata": {},
   "outputs": [
    {
     "name": "stdout",
     "output_type": "stream",
     "text": [
      "not sorted\n"
     ]
    }
   ],
   "source": [
    "# 16 Create a code to check if a given list is sorted (either in ascending or descending order) or not\n",
    "num_list=[1,2,3,4,5,7,98,3456,4,65,85,67]\n",
    "asc = sorted(num_list)\n",
    "desc = sorted(num_list,reverse=True)\n",
    "if num_list == asc or num_list == desc:\n",
    "    print(\"The list is sorted\")\n",
    "else:\n",
    "    print('not sorted')"
   ]
  },
  {
   "cell_type": "code",
   "execution_count": 17,
   "id": "9a940fae",
   "metadata": {},
   "outputs": [
    {
     "data": {
      "text/plain": [
       "[1, 2, 5, 5, 6, 6, 6, 7, 7, 8, 34, 233, 234, 865]"
      ]
     },
     "execution_count": 17,
     "metadata": {},
     "output_type": "execute_result"
    }
   ],
   "source": [
    "# 17 Write a code to merge two sorted lists into a single sorted list\n",
    "list1 = [1,2,34,5,6,7,8]\n",
    "list2 = [6,865,234,233,5,6,7]\n",
    "merge_sorted = sorted((list1+list2))\n",
    "merge_sorted"
   ]
  },
  {
   "cell_type": "code",
   "execution_count": 18,
   "id": "b017a720",
   "metadata": {},
   "outputs": [
    {
     "data": {
      "text/plain": [
       "[5, 6, 7]"
      ]
     },
     "execution_count": 18,
     "metadata": {},
     "output_type": "execute_result"
    }
   ],
   "source": [
    "# 18 Implement a code to find the intersection of two given lists\n",
    "list1 = [1,2,34,5,6,7,8]\n",
    "list2 = [6,865,234,233,5,6,7]\n",
    "intersection=[]\n",
    "for i in list2:\n",
    "    if i in list1:\n",
    "        intersection.append(i)\n",
    "list(set(intersection))"
   ]
  },
  {
   "cell_type": "code",
   "execution_count": 19,
   "id": "4d591531",
   "metadata": {},
   "outputs": [
    {
     "data": {
      "text/plain": [
       "[1, 2, 34, 865, 5, 6, 7, 8, 233, 234]"
      ]
     },
     "execution_count": 19,
     "metadata": {},
     "output_type": "execute_result"
    }
   ],
   "source": [
    "# 19 Create a code to find the union of two lists without duplicates\n",
    "list1 = [1,2,34,5,6,7,8]\n",
    "list2 = [6,865,234,233,5,6,7]\n",
    "union = list(set(list1+list2))\n",
    "union"
   ]
  },
  {
   "cell_type": "code",
   "execution_count": 20,
   "id": "be56b091",
   "metadata": {},
   "outputs": [
    {
     "data": {
      "text/plain": [
       "[865, 5, 6, 7, 233, 234]"
      ]
     },
     "execution_count": 20,
     "metadata": {},
     "output_type": "execute_result"
    }
   ],
   "source": [
    "# 20 Write a code to shuffle a given list randomly without using any built-in shuffle functions\n",
    "list2 = [6,865,234,233,5,6,7]\n",
    "shuffled = list(set(list2))\n",
    "shuffled"
   ]
  },
  {
   "cell_type": "code",
   "execution_count": 21,
   "id": "ad4cfec0",
   "metadata": {},
   "outputs": [
    {
     "name": "stdout",
     "output_type": "stream",
     "text": [
      "How many elements you want in tuple1   3\n",
      "How many elements you want in tuple2   3\n",
      "Enter the number for first tuple   3\n",
      "Enter the number for first tuple   4\n",
      "Enter the number for first tuple   5\n",
      "Enter the number for seconnd tuple   5\n",
      "Enter the number for seconnd tuple   6\n",
      "Enter the number for seconnd tuple   7\n"
     ]
    },
    {
     "data": {
      "text/plain": [
       "(5,)"
      ]
     },
     "execution_count": 21,
     "metadata": {},
     "output_type": "execute_result"
    }
   ],
   "source": [
    "# 21 Write a code that takes two tuples as input and returns a new tuple containing elements that are common to both input tuples\n",
    "num1 = int(input(\"How many elements you want in tuple1   \"))\n",
    "num2= int(input(\"How many elements you want in tuple2   \"))\n",
    "tuple1=[]\n",
    "tuple2=[]\n",
    "for i in range(1,num1+1):\n",
    "    x=int(input(\"Enter the number for first tuple   \"))\n",
    "    tuple1.append(x) \n",
    "for j in range(1,num2+1):\n",
    "    y=int(input(\"Enter the number for seconnd tuple   \"))\n",
    "    tuple2.append(y)   \n",
    "common_elements=[]\n",
    "for k in tuple1:\n",
    "    if k in tuple2:\n",
    "        common_elements.append(k)\n",
    "tuple(common_elements)"
   ]
  },
  {
   "cell_type": "code",
   "execution_count": 22,
   "id": "7dff0f87",
   "metadata": {},
   "outputs": [
    {
     "name": "stdout",
     "output_type": "stream",
     "text": [
      "Enter the integers for set1 separated by commas1,2,3,4,5\n",
      "Enter the integers for set2 separated by commas4,5,65,,7\n"
     ]
    },
    {
     "data": {
      "text/plain": [
       "{4, 5}"
      ]
     },
     "execution_count": 22,
     "metadata": {},
     "output_type": "execute_result"
    }
   ],
   "source": [
    "# 22 Create a code that prompts the user to enter two sets of integers separated by commas. Then, print the intersection of these two sets\n",
    "set1 = input(\"Enter the integers for set1 separated by commas\")\n",
    "set2 = input(\"Enter the integers for set2 separated by commas\")\n",
    "list1=set1.split(\",\")\n",
    "list2=set2.split(\",\")\n",
    "intersection = []\n",
    "for i in list1:\n",
    "    if i in list2:\n",
    "        intersection.append(int(i))\n",
    "set(intersection)        "
   ]
  },
  {
   "cell_type": "code",
   "execution_count": 23,
   "id": "ee1e9e69",
   "metadata": {},
   "outputs": [
    {
     "name": "stdout",
     "output_type": "stream",
     "text": [
      "Enter the element for tuple1 separated by commas2,3,4,5,6,\n",
      "Enter the element for tuple2 separated by commas5,6,5,5\n"
     ]
    },
    {
     "data": {
      "text/plain": [
       "('', '5', '2', '3', '4', '6')"
      ]
     },
     "execution_count": 23,
     "metadata": {},
     "output_type": "execute_result"
    }
   ],
   "source": [
    "# 23 Write a code to concatenate two tuples. The function should take two tuples as input and return a new \n",
    "# tuple containing elements from both input tuples.\n",
    "tup1 = input(\"Enter the element for tuple1 separated by commas\")\n",
    "tup2 = input(\"Enter the element for tuple2 separated by commas\")\n",
    "list1=tup1.split(\",\")\n",
    "list2=tup2.split(\",\")\n",
    "union = tuple(set(list1+list2))\n",
    "union"
   ]
  },
  {
   "cell_type": "code",
   "execution_count": 24,
   "id": "9828e734",
   "metadata": {},
   "outputs": [
    {
     "name": "stdout",
     "output_type": "stream",
     "text": [
      "Enter string 1  abhisek\n",
      "Enter string 2  abhi\n"
     ]
    },
    {
     "data": {
      "text/plain": [
       "'sek'"
      ]
     },
     "execution_count": 24,
     "metadata": {},
     "output_type": "execute_result"
    }
   ],
   "source": [
    "# 24  Develop a code that prompts the user to input two sets of strings. Then, print the elements that are \n",
    "# present in the first set but not in the second set\n",
    "string_1 = input(\"Enter string 1  \")\n",
    "string_2 = input(\"Enter string 2  \")\n",
    "elements=\"\"\n",
    "for i in string_1:\n",
    "    if i not in string_2:\n",
    "        elements+=i\n",
    "elements"
   ]
  },
  {
   "cell_type": "code",
   "execution_count": 25,
   "id": "40528c2e",
   "metadata": {},
   "outputs": [],
   "source": [
    "# 25  Create a code that takes a tuple and two integers as input. The function should return a new tuple \n",
    "# containing elements from the original tuple within the specified range of indices\n",
    "# tup1 = input(\"Enter the element for tuple1 separated by commas\")\n",
    "# tup2 = input(\"Enter the two integers separated by comma\")\n",
    "# list1=tup1.split(\",\")\n",
    "# list2=tup2.split(\",\")\n"
   ]
  },
  {
   "cell_type": "code",
   "execution_count": 28,
   "id": "06d153ff",
   "metadata": {},
   "outputs": [
    {
     "name": "stdout",
     "output_type": "stream",
     "text": [
      "enter the char here  abhu\n",
      "enter the 2nd char here  abhi\n"
     ]
    },
    {
     "data": {
      "text/plain": [
       "'abhiu'"
      ]
     },
     "execution_count": 28,
     "metadata": {},
     "output_type": "execute_result"
    }
   ],
   "source": [
    "#  26 Write a code that prompts the user to input two sets of characters. Then, print the union of these two sets\n",
    "set1 = input(\"enter the char here  \")\n",
    "set2 = input('enter the 2nd char here  ')\n",
    "common = set2\n",
    "for i in set1:\n",
    "    if i not in set2:\n",
    "        common+=i\n",
    "common"
   ]
  },
  {
   "cell_type": "code",
   "execution_count": 4,
   "id": "7af0f296",
   "metadata": {},
   "outputs": [
    {
     "name": "stdout",
     "output_type": "stream",
     "text": [
      "Enter the element for tuple1 separated by commas1,2,3,4,5,6,6\n",
      "6\n",
      "1\n"
     ]
    }
   ],
   "source": [
    "# 27 Develop a code that takes a tuple of integers as input. The function should return the maximum and \n",
    "# minimum values from the tuple using tuple unpacking\n",
    "tup1 = input(\"Enter the element for tuple1 separated by commas\")\n",
    "list1=tup1.split(\",\")\n",
    "full=[]\n",
    "for i in list1:\n",
    "    full.append(int(i))\n",
    "print(max(full))\n",
    "print(min(full))\n"
   ]
  },
  {
   "cell_type": "code",
   "execution_count": 5,
   "id": "40448c1a",
   "metadata": {},
   "outputs": [
    {
     "name": "stdout",
     "output_type": "stream",
     "text": [
      "{4, 5, 6, 7}\n",
      "{1, 2, 3, 4, 5, 6, 7, 8, 345}\n",
      "{1, 2, 3}\n"
     ]
    }
   ],
   "source": [
    "# 28 Create a code that defines two sets of integers. Then, print the union, intersection, and difference of these two sets\n",
    "set1={1,2,3,4,5,6,7}\n",
    "set2={6,7,4,345,8,5}\n",
    "print(set1 & set2)\n",
    "print(set1 | set2)\n",
    "print(set1 - set2)"
   ]
  },
  {
   "cell_type": "code",
   "execution_count": 6,
   "id": "f4f9e3f6",
   "metadata": {},
   "outputs": [
    {
     "name": "stdout",
     "output_type": "stream",
     "text": [
      "Enter the element for tuple1 separated by commas1,2,3,4,5,6\n",
      "enter the element here3\n"
     ]
    },
    {
     "data": {
      "text/plain": [
       "1"
      ]
     },
     "execution_count": 6,
     "metadata": {},
     "output_type": "execute_result"
    }
   ],
   "source": [
    "# 29 Write a code that takes a tuple and an element as input. The function should return the count of \n",
    "# occurrences of the given element in the tuple\n",
    "tup1 = input(\"Enter the element for tuple1 separated by commas\")\n",
    "elem = input(\"enter the element here\")\n",
    "list1=tup1.split(\",\")\n",
    "list1.count(elem)\n"
   ]
  },
  {
   "cell_type": "code",
   "execution_count": 8,
   "id": "12fa4c09",
   "metadata": {},
   "outputs": [
    {
     "name": "stdout",
     "output_type": "stream",
     "text": [
      "enter the string here  abhu\n",
      "enter the 2nd string here  kathan\n",
      "{'u', 'k', 't', 'n', 'b'}\n"
     ]
    }
   ],
   "source": [
    "# # 30 Develop a code that prompts the user to input two sets of strings. Then, print the symmetric difference of \n",
    "# # these two sets\n",
    "str1 = set(input(\"enter the string here  \"))\n",
    "str2 = set(input('enter the 2nd string here  '))\n",
    "print((str1 | str2) - (str1 & str2))"
   ]
  },
  {
   "cell_type": "code",
   "execution_count": 9,
   "id": "498a6edd",
   "metadata": {},
   "outputs": [
    {
     "name": "stdout",
     "output_type": "stream",
     "text": [
      "Enter the number separated by commas3,4,5,,8,7,5,44,5,6,7\n",
      "{'': 1, '7': 2, '8': 1, '5': 3, '3': 1, '44': 1, '4': 1, '6': 1}\n"
     ]
    }
   ],
   "source": [
    "# 31 Write a code that takes a list of words as input and returns a dictionary where the keys are unique words \n",
    "# and the values are the frequencies of those words in the input list\n",
    "number_list=input(\"Enter the number separated by commas\")\n",
    "num_list = number_list.split(',')\n",
    "num_set=set(num_list)\n",
    "dictionary = {}\n",
    "for i in num_set:\n",
    "    counter = {i:num_list.count(i)}\n",
    "    dictionary.update(counter)\n",
    "print(dictionary)\n"
   ]
  },
  {
   "cell_type": "code",
   "execution_count": 13,
   "id": "67e0f3e1",
   "metadata": {},
   "outputs": [
    {
     "name": "stdout",
     "output_type": "stream",
     "text": [
      "Enter the number of entries you want to add in Dic 1: 2\n",
      "Enter the number of entries you want to add in Dic 2: 2\n",
      "Enter key: a\n",
      "Enter value: 1\n",
      "Enter key: b\n",
      "Enter value: 2\n",
      "Enter key: c\n",
      "Enter value: 4\n",
      "Enter key: b\n",
      "Enter value: 5\n",
      "{'c': 4, 'b': 7, 'a': 1}\n"
     ]
    }
   ],
   "source": [
    "# 32 Write a code that takes two dictionaries as input and merges them into a single dictionary. If there are \n",
    "# common keys, the values should be added together\n",
    "user_dict_01 = {}\n",
    "user_dict_02 = {}\n",
    "num_entries_01 = int(input(\"Enter the number of entries you want to add in Dic 1: \"))\n",
    "num_entries_02 = int(input(\"Enter the number of entries you want to add in Dic 2: \"))\n",
    "for i in range(num_entries_01):\n",
    "\tkey = input(\"Enter key: \")\n",
    "\tvalue = int(input(\"Enter value: \"))\n",
    "\tuser_dict_01[key] = value\n",
    "for j in range(num_entries_02):\n",
    "\tkey = input(\"Enter key: \")\n",
    "\tvalue = int(input(\"Enter value: \"))\n",
    "\tuser_dict_02[key] = value\n",
    "for k in user_dict_02:\n",
    "    if k in user_dict_01:\n",
    "        user_dict_02[k]+=user_dict_01[k]\n",
    "for i in user_dict_01:\n",
    "    if i not in user_dict_02:\n",
    "        user_dict_02.update({i:user_dict_01[i]})\n",
    "print(user_dict_02)\n",
    "\n"
   ]
  },
  {
   "cell_type": "code",
   "execution_count": 16,
   "id": "1ebe3e42",
   "metadata": {},
   "outputs": [],
   "source": [
    "# 33 Write a code to access a value in a nested dictionary. The function should take the dictionary and a list of \n",
    "# keys as input, and return the corresponding value. If any of the keys do not exist in the dictionary, the \n",
    "# function should return None\n"
   ]
  },
  {
   "cell_type": "code",
   "execution_count": 21,
   "id": "c5dd3936",
   "metadata": {},
   "outputs": [
    {
     "name": "stdout",
     "output_type": "stream",
     "text": [
      "Type \"a\" for ascening or \"d\" for descendingd\n",
      "Sorted dictionary is :\n",
      "[(4, 'd'), (3, 'c'), (2, 'b'), (1, 'a')]\n"
     ]
    }
   ],
   "source": [
    "# 34 Write a code that takes a dictionary as input and returns a sorted version of it based on the values. You \n",
    "# can choose whether to sort in ascending or descending order\n",
    "my_dict = {'c': 3, \n",
    "        'a': 1, \n",
    "        'd': 4, \n",
    "        'b': 2}\n",
    "x = input('Type \"a\" for ascening or \"d\" for descending')\n",
    "if x == \"a\":\n",
    "    sorted_dict = sorted([(value, key) for (key, value) in my_dict.items()])\n",
    "else:\n",
    "    sorted_dict = sorted([(value, key) for (key, value) in my_dict.items()],reverse=True)\n",
    "print(\"Sorted dictionary is :\")\n",
    "print(sorted_dict)     "
   ]
  },
  {
   "cell_type": "code",
   "execution_count": 27,
   "id": "6a7f2cde",
   "metadata": {},
   "outputs": [
    {
     "name": "stdout",
     "output_type": "stream",
     "text": [
      "{3: 'b', 1: 'b', 4: 'b', 2: 'b'}\n"
     ]
    }
   ],
   "source": [
    "# 35 Write a code that inverts a dictionary, swapping keys and values. Ensure that the inverted dictionary \n",
    "# correctly handles cases where multiple keys have the same value by storing the keys as a list in the \n",
    "# inverted dictionary.\n",
    "my_dict = {'c': 3, \n",
    "        'a': 1, \n",
    "        'd': 4, \n",
    "        'b': 2}\n",
    "new_dict={}\n",
    "keys = list(my_dict.keys())\n",
    "values = list(my_dict.values())\n",
    "for i,j in zip(keys,values):\n",
    "    new_dict.update({j:k})\n",
    "print(new_dict)"
   ]
  }
 ],
 "metadata": {
  "kernelspec": {
   "display_name": "Python 3 (ipykernel)",
   "language": "python",
   "name": "python3"
  },
  "language_info": {
   "codemirror_mode": {
    "name": "ipython",
    "version": 3
   },
   "file_extension": ".py",
   "mimetype": "text/x-python",
   "name": "python",
   "nbconvert_exporter": "python",
   "pygments_lexer": "ipython3",
   "version": "3.11.5"
  }
 },
 "nbformat": 4,
 "nbformat_minor": 5
}
